{
    "cells": [
        {
            "cell_type": "markdown",
            "metadata": {},
            "source": [
                "# Prerequisites\n",
                "\n",
                "pip install bqplot"
            ]
        },
        {
            "cell_type": "markdown",
            "metadata": {},
            "source": [
                "## Using `bqplot`'s interactive elements"
            ]
        },
        {
            "cell_type": "code",
            "execution_count": 128,
            "metadata": {},
            "outputs": [],
            "source": [
                "# Creating a new Figure and setting it's title\n",
                "import numpy as np\n",
                "from bqplot import pyplot as plt\n",
                "\n",
                "plt.figure(title='My Second Chart')"
            ]
        },
        {
            "cell_type": "code",
            "execution_count": 129,
            "metadata": {},
            "outputs": [],
            "source": [
                "# Let's assign the scatter plot to a variable\n",
                "# And creating some random data\n",
                "size = 100\n",
                "np.random.seed(0)\n",
                "x_data = np.arange(size)\n",
                "y_data = np.cumsum(np.random.randn(size)  * 100.0)\n",
                "scatter_plot = plt.scatter(x_data, y_data)\n",
                "scatter_plot.y = np.cumsum(np.random.randn(size)  * 100.0)"
            ]
        },
        {
            "cell_type": "markdown",
            "metadata": {},
            "source": [
                "# Change color of plots"
            ]
        },
        {
            "cell_type": "code",
            "execution_count": null,
            "metadata": {},
            "outputs": [],
            "source": [
                "# Say, the color\n",
                "scatter_plot.colors = ['Red']"
            ]
        },
        {
            "cell_type": "code",
            "execution_count": null,
            "metadata": {},
            "outputs": [],
            "source": [
                "scatter_plot.colors = ['yellow']"
            ]
        },
        {
            "cell_type": "code",
            "execution_count": null,
            "metadata": {},
            "outputs": [],
            "source": [
                "plt.title('Updated second time')"
            ]
        }
    ],
    "metadata": {
        "anaconda-cloud": {},
        "language_info": {
            "codemirror_mode": {
                "name": "ipython",
                "version": 3
            },
            "file_extension": ".py",
            "mimetype": "text/x-python",
            "name": "python",
            "nbconvert_exporter": "python",
            "pygments_lexer": "ipython3",
            "version": "3.10.4"
        }
    },
    "nbformat": 4,
    "nbformat_minor": 1
}
